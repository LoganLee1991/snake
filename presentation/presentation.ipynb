{
 "cells": [
  {
   "cell_type": "code",
   "execution_count": 1,
   "metadata": {
    "collapsed": false,
    "slideshow": {
     "slide_type": "skip"
    }
   },
   "outputs": [
    {
     "data": {
      "text/html": [
       "<style>h1 {font-size: 400% !important;} h2 {font-size: 300% !important}"
      ],
      "text/plain": [
       "<IPython.core.display.HTML object>"
      ]
     },
     "execution_count": 1,
     "metadata": {},
     "output_type": "execute_result"
    }
   ],
   "source": [
    "from IPython.display import HTML\n",
    "style = \"\"\"<style>h1 {font-size: 400% !important;} h2 {font-size: 300% !important}\"\"\"\n",
    "\n",
    "HTML(style)\n",
    "\n",
    "# TODO No liability license"
   ]
  },
  {
   "cell_type": "markdown",
   "metadata": {
    "slideshow": {
     "slide_type": "slide"
    }
   },
   "source": [
    "# 👋"
   ]
  },
  {
   "cell_type": "markdown",
   "metadata": {
    "slideshow": {
     "slide_type": "notes"
    }
   },
   "source": [
    "waving hand sign"
   ]
  },
  {
   "cell_type": "markdown",
   "metadata": {
    "slideshow": {
     "slide_type": "slide"
    }
   },
   "source": [
    "# 🌩🗣: 🐍\n",
    "<br>\n",
    "## 🌸\n",
    "## 🃏"
   ]
  },
  {
   "cell_type": "markdown",
   "metadata": {
    "slideshow": {
     "slide_type": "notes"
    }
   },
   "source": [
    "cloud with lightning; speaking head in silhouette: snake\n",
    "\n",
    "Cherry blossom.\n",
    "\n",
    "Playing card black joker."
   ]
  },
  {
   "cell_type": "markdown",
   "metadata": {
    "slideshow": {
     "slide_type": "slide"
    }
   },
   "source": [
    "<img src=\"./slack_long.png\" width=75%>"
   ]
  },
  {
   "cell_type": "markdown",
   "metadata": {
    "slideshow": {
     "slide_type": "notes"
    }
   },
   "source": [
    "snake; snake; snake; snake; slice of pizza"
   ]
  },
  {
   "cell_type": "markdown",
   "metadata": {
    "slideshow": {
     "slide_type": "slide"
    }
   },
   "source": [
    "<img src=\"./slack_ben.png\" width=75%>\n",
    "\n",
    "# 🤔💡"
   ]
  },
  {
   "cell_type": "markdown",
   "metadata": {
    "slideshow": {
     "slide_type": "notes"
    }
   },
   "source": [
    "thinking face; electric light bulb"
   ]
  },
  {
   "cell_type": "markdown",
   "metadata": {
    "slideshow": {
     "slide_type": "slide"
    }
   },
   "source": [
    "# 🐍❔\n",
    "## 📝🐍🚫🔡  ➡ 💻"
   ]
  },
  {
   "cell_type": "markdown",
   "metadata": {
    "slideshow": {
     "slide_type": "notes"
    }
   },
   "source": [
    "snake; white question mark ornament\n",
    "\n",
    "Memo; snake; no entry sign; input symbol for latin small characters; black rightwards arrow; personal computer."
   ]
  },
  {
   "cell_type": "markdown",
   "metadata": {
    "slideshow": {
     "slide_type": "slide"
    }
   },
   "source": [
    "# ⁉\n",
    "\n",
    "## 😀   ➡  🐍   ➡ 🔡"
   ]
  },
  {
   "cell_type": "markdown",
   "metadata": {
    "slideshow": {
     "slide_type": "notes"
    }
   },
   "source": [
    "exclamation mark question mark\n",
    "\n",
    "grinning face; black rightwards arrow; snake; black rightwards arrow; input symbol for latin small characters"
   ]
  },
  {
   "cell_type": "markdown",
   "metadata": {
    "slideshow": {
     "slide_type": "slide"
    }
   },
   "source": [
    "# ⁉\n",
    "## 🐍 📖"
   ]
  },
  {
   "cell_type": "markdown",
   "metadata": {
    "slideshow": {
     "slide_type": "notes"
    }
   },
   "source": [
    "exclamation mark question mark\n",
    "\n",
    "snake; open book"
   ]
  },
  {
   "cell_type": "code",
   "execution_count": null,
   "metadata": {
    "collapsed": false,
    "slideshow": {
     "slide_type": "slide"
    }
   },
   "outputs": [],
   "source": [
    "%reload_ext snake.ipython_hook"
   ]
  },
  {
   "cell_type": "code",
   "execution_count": null,
   "metadata": {
    "collapsed": false,
    "slideshow": {
     "slide_type": "slide"
    }
   },
   "outputs": [],
   "source": []
  },
  {
   "cell_type": "code",
   "execution_count": null,
   "metadata": {
    "collapsed": false,
    "slideshow": {
     "slide_type": "notes"
    }
   },
   "outputs": [],
   "source": [
    "# Demo 1:\n",
    "    \n",
    "😀 ⬅ 10\n",
    "😀\n",
    "😀 ⬅ 😀 + 1\n",
    "😀\n",
    "\n",
    "# Demo 2:\n",
    "😀 = 10\n",
    "😀 ⬅ 5\n",
    "😀 > 20"
   ]
  },
  {
   "cell_type": "markdown",
   "metadata": {
    "slideshow": {
     "slide_type": "notes"
    }
   },
   "source": [
    "grinning face; leftwards black arrow\n",
    "\n",
    "thumbs up sign. thumbs down sign"
   ]
  },
  {
   "cell_type": "markdown",
   "metadata": {
    "slideshow": {
     "slide_type": "slide"
    }
   },
   "source": [
    "# 🆒‼ \n",
    "## 🙌"
   ]
  },
  {
   "cell_type": "markdown",
   "metadata": {
    "slideshow": {
     "slide_type": "notes"
    }
   },
   "source": [
    "squared cool; double exclamation mark.\n",
    "\n",
    "person raising both hands in celebration"
   ]
  },
  {
   "cell_type": "code",
   "execution_count": null,
   "metadata": {
    "collapsed": false,
    "slideshow": {
     "slide_type": "slide"
    }
   },
   "outputs": [],
   "source": [
    "# 🥂🐝❗\n",
    "\n",
    "🍀 ℹ 👇 ↔(1, 101):\n",
    "    📄 = ''\n",
    "    ❔ ℹ % 3 == 0:\n",
    "       📄 += '🥂'\n",
    "    ❔ ℹ % 5 == 0:\n",
    "        📄 += '🐝'\n",
    "    ❔ 🎀(ℹ % 3 == 0) ➰ 🎀(ℹ % 5 == 0):\n",
    "        📄 += 🔤(ℹ)\n",
    "    🖨(📄)"
   ]
  },
  {
   "cell_type": "markdown",
   "metadata": {
    "slideshow": {
     "slide_type": "notes"
    }
   },
   "source": [
    "clinking glasses; honeybee; heavy exclamation mark symbol\n",
    "\n",
    "- four leaf clover; information source; left right arrow(1, 101):\n",
    "- page facing up equals empty string\n",
    "- white question mark ornament; information source modulo three is equal to zero: page facing up plus equals clinking glasses\n",
    "- white question mark ornament; information source modulo five is equal to zero: page facing up plus equals honeybee\n",
    "- white question mark ornament; ribbon  information source modulo three is equal to zero; curly loop ribbon information source modulo five is equal to zero\n",
    "- page facing up plus equals input symbol for latin letters information source\n",
    "- printer; page facing up"
   ]
  },
  {
   "cell_type": "markdown",
   "metadata": {
    "slideshow": {
     "slide_type": "slide"
    }
   },
   "source": [
    "# 😀 ➡  🐍 ➡ 😀 "
   ]
  },
  {
   "cell_type": "markdown",
   "metadata": {
    "slideshow": {
     "slide_type": "slide"
    }
   },
   "source": [
    "# 😀   ➡  🐍"
   ]
  },
  {
   "cell_type": "code",
   "execution_count": null,
   "metadata": {
    "collapsed": false,
    "slideshow": {
     "slide_type": "slide"
    }
   },
   "outputs": [],
   "source": [
    "%cat ../original.py"
   ]
  },
  {
   "cell_type": "code",
   "execution_count": null,
   "metadata": {
    "collapsed": false,
    "slideshow": {
     "slide_type": "slide"
    }
   },
   "outputs": [],
   "source": [
    "import snake.python_to_emoji\n",
    "\n",
    "#  Converts python into emoji\n",
    "snake.python_to_emoji.python_to_emoji(\n",
    "    '../original.py',\n",
    "     \"../examples/test.emj\")"
   ]
  },
  {
   "cell_type": "code",
   "execution_count": null,
   "metadata": {
    "collapsed": false,
    "slideshow": {
     "slide_type": "slide"
    }
   },
   "outputs": [],
   "source": [
    "%cat ../examples/test.emj"
   ]
  },
  {
   "cell_type": "markdown",
   "metadata": {
    "slideshow": {
     "slide_type": "slide"
    }
   },
   "source": [
    "# 🐍   ➡  😀 "
   ]
  },
  {
   "cell_type": "code",
   "execution_count": null,
   "metadata": {
    "collapsed": false,
    "slideshow": {
     "slide_type": "slide"
    }
   },
   "outputs": [],
   "source": [
    "import snake.emoji_to_python\n",
    "\n",
    "EMOJIOUT = \"../examples/test.emj\"\n",
    "PYOUT = \"../examples/output.py\"\n",
    "\n",
    "#converts emoji to python\n",
    "parsed_python = snake.emoji_to_python.emoji_to_python(EMOJIOUT)\n",
    "snake.emoji_to_python.write_emoji_to_python(EMOJIOUT, PYOUT)\n",
    "\n",
    "print()\n",
    "print(parsed_python)"
   ]
  },
  {
   "cell_type": "code",
   "execution_count": null,
   "metadata": {
    "collapsed": false,
    "slideshow": {
     "slide_type": "slide"
    }
   },
   "outputs": [],
   "source": [
    "%cat ../examples/output.py"
   ]
  },
  {
   "cell_type": "markdown",
   "metadata": {
    "slideshow": {
     "slide_type": "slide"
    }
   },
   "source": [
    "# 🎉🎊🙌🙌"
   ]
  },
  {
   "cell_type": "markdown",
   "metadata": {
    "slideshow": {
     "slide_type": "notes"
    }
   },
   "source": [
    "party popper; confetti ball; hands raised in celebration; hands raised in celebration"
   ]
  },
  {
   "cell_type": "markdown",
   "metadata": {
    "slideshow": {
     "slide_type": "slide"
    }
   },
   "source": [
    "# 📩\n",
    "`pip install git+http://adamobeng.com/🐍`"
   ]
  },
  {
   "cell_type": "markdown",
   "metadata": {
    "collapsed": true,
    "slideshow": {
     "slide_type": "notes"
    }
   },
   "source": [
    "envelope with downwards arrow above"
   ]
  },
  {
   "cell_type": "markdown",
   "metadata": {
    "slideshow": {
     "slide_type": "slide"
    }
   },
   "source": [
    "# 🔚🙇🙏\n",
    "\n",
    "### http://adamobeng.com/🐍\n",
    "\n",
    "## ✍💳\n",
    "- 🌸:  @Samathy_Barratt\n",
    "- 🐻:  @stevenewey\n",
    "- 🎹:  @Ducksual\n",
    "- 🃏:  @Adam_Obeng"
   ]
  },
  {
   "cell_type": "markdown",
   "metadata": {
    "slideshow": {
     "slide_type": "notes"
    }
   },
   "source": [
    "End with leftwards arrow above; person bowing deeply; person with folded hands\n",
    "\n",
    "Writing hand; credit card\n",
    "\n",
    "- Cherry blossom\n",
    "- Bear face\n",
    "- Musical keyboard\n",
    "- Playing card black joker"
   ]
  }
 ],
 "metadata": {
  "celltoolbar": "Slideshow",
  "kernelspec": {
   "display_name": "Python 3",
   "language": "python",
   "name": "python3"
  },
  "language_info": {
   "codemirror_mode": {
    "name": "ipython",
    "version": 3
   },
   "file_extension": ".py",
   "mimetype": "text/x-python",
   "name": "python",
   "nbconvert_exporter": "python",
   "pygments_lexer": "ipython3",
   "version": "3.5.1"
  }
 },
 "nbformat": 4,
 "nbformat_minor": 0
}

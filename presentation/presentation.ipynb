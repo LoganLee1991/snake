{
 "cells": [
  {
   "cell_type": "code",
   "execution_count": 30,
   "metadata": {
    "collapsed": false,
    "slideshow": {
     "slide_type": "skip"
    }
   },
   "outputs": [
    {
     "data": {
      "text/html": [
       "<style>h1 {font-size: 400% !important;} h2 {font-size: 300% !important}</style>"
      ],
      "text/plain": [
       "<IPython.core.display.HTML object>"
      ]
     },
     "execution_count": 30,
     "metadata": {},
     "output_type": "execute_result"
    }
   ],
   "source": [
    "# from IPython.display import HTML\n",
    "style = \"<style>h1 {font-size: 400% !important;} h2 {font-size: 300% !important}</style>\"\n",
    "HTML(style)\n",
    "\n",
    "# TODO: URl rediredct"
   ]
  },
  {
   "cell_type": "markdown",
   "metadata": {
    "slideshow": {
     "slide_type": "slide"
    }
   },
   "source": [
    "# 👋"
   ]
  },
  {
   "cell_type": "markdown",
   "metadata": {
    "slideshow": {
     "slide_type": "notes"
    }
   },
   "source": [
    "waving hand sign"
   ]
  },
  {
   "cell_type": "markdown",
   "metadata": {
    "slideshow": {
     "slide_type": "slide"
    }
   },
   "source": [
    "# 🌩🗣: 🐍\n",
    "\n",
    "### 🃏:  💻🔍👥  🏫🗽"
   ]
  },
  {
   "cell_type": "markdown",
   "metadata": {
    "slideshow": {
     "slide_type": "notes"
    }
   },
   "source": [
    "cloud with lightning; speaking head in silhouette: snake\n",
    "\n",
    "playing card black joker\n",
    "\n",
    "TODO: add introductions of ourselves as emoji"
   ]
  },
  {
   "cell_type": "markdown",
   "metadata": {
    "slideshow": {
     "slide_type": "slide"
    }
   },
   "source": [
    "![](./slack_long.png)"
   ]
  },
  {
   "cell_type": "markdown",
   "metadata": {
    "slideshow": {
     "slide_type": "notes"
    }
   },
   "source": [
    "snake; snake; snake; snake; slice of pizza"
   ]
  },
  {
   "cell_type": "markdown",
   "metadata": {
    "slideshow": {
     "slide_type": "slide"
    }
   },
   "source": [
    "![](./slack_ben.png)\n",
    "\n",
    "# 🤔💡"
   ]
  },
  {
   "cell_type": "markdown",
   "metadata": {
    "slideshow": {
     "slide_type": "notes"
    }
   },
   "source": [
    "thinking face; electric light bulb"
   ]
  },
  {
   "cell_type": "markdown",
   "metadata": {
    "slideshow": {
     "slide_type": "slide"
    }
   },
   "source": [
    "# 🐍❔\n",
    "## 📝🐍🚫🔡  ➡ 💻"
   ]
  },
  {
   "cell_type": "markdown",
   "metadata": {
    "slideshow": {
     "slide_type": "notes"
    }
   },
   "source": [
    "snake; white question mark ornament\n",
    "\n",
    "Memo; snake; no entry sign; input symbol for latin small characters; black rightwards arrow; personal computer."
   ]
  },
  {
   "cell_type": "markdown",
   "metadata": {
    "slideshow": {
     "slide_type": "slide"
    }
   },
   "source": [
    "# ⁉\n",
    "\n",
    "## 😀   ➡  🐍   ➡ 🔡"
   ]
  },
  {
   "cell_type": "markdown",
   "metadata": {
    "slideshow": {
     "slide_type": "notes"
    }
   },
   "source": [
    "exclamation mark question mark\n",
    "\n",
    "grinning face; black rightwards arrow; snake; black rightwards arrow; input symbol for latin small characters"
   ]
  },
  {
   "cell_type": "markdown",
   "metadata": {
    "slideshow": {
     "slide_type": "notes"
    }
   },
   "source": [
    "# ⁉\n",
    "## 🐍 📖"
   ]
  },
  {
   "cell_type": "markdown",
   "metadata": {
    "slideshow": {
     "slide_type": "notes"
    }
   },
   "source": [
    "exclamation mark question mark\n",
    "\n",
    "snake; open book"
   ]
  },
  {
   "cell_type": "code",
   "execution_count": 1,
   "metadata": {
    "collapsed": false,
    "slideshow": {
     "slide_type": "slide"
    }
   },
   "outputs": [],
   "source": [
    "%reload_ext snake.ipython_hook"
   ]
  },
  {
   "cell_type": "code",
   "execution_count": null,
   "metadata": {
    "collapsed": false,
    "slideshow": {
     "slide_type": "slide"
    }
   },
   "outputs": [],
   "source": []
  },
  {
   "cell_type": "code",
   "execution_count": 3,
   "metadata": {
    "collapsed": false,
    "slideshow": {
     "slide_type": "notes"
    }
   },
   "outputs": [
    {
     "data": {
      "text/html": [
       "👎"
      ],
      "text/plain": [
       "False"
      ]
     },
     "execution_count": 3,
     "metadata": {},
     "output_type": "execute_result"
    }
   ],
   "source": [
    "# Demo 1:\n",
    "    \n",
    "😀 ⬅ 10\n",
    "😀\n",
    "😀 ⬅ 😀 + 1\n",
    "😀\n",
    "\n",
    "# Demo 2:\n",
    "😀 = 10\n",
    "😀 ⬅ 5\n",
    "😀 > 20"
   ]
  },
  {
   "cell_type": "markdown",
   "metadata": {
    "slideshow": {
     "slide_type": "notes"
    }
   },
   "source": [
    "grinning face; leftwards black arrow\n",
    "\n",
    "thumbs up sign. thumbs down sign"
   ]
  },
  {
   "cell_type": "markdown",
   "metadata": {
    "slideshow": {
     "slide_type": "slide"
    }
   },
   "source": [
    "# 🆒‼ \n",
    "## 🙌"
   ]
  },
  {
   "cell_type": "markdown",
   "metadata": {
    "slideshow": {
     "slide_type": "notes"
    }
   },
   "source": [
    "squared cool; double exclamation mark.\n",
    "\n",
    "person raising both hands in celebration"
   ]
  },
  {
   "cell_type": "code",
   "execution_count": 10,
   "metadata": {
    "collapsed": false,
    "slideshow": {
     "slide_type": "slide"
    }
   },
   "outputs": [
    {
     "name": "stdout",
     "output_type": "stream",
     "text": [
      "1\n",
      "2\n",
      "🥂\n",
      "4\n",
      "🐝\n",
      "🥂\n",
      "7\n",
      "8\n",
      "🥂\n",
      "🐝\n",
      "11\n",
      "🥂\n",
      "13\n",
      "14\n",
      "🥂🐝\n",
      "16\n",
      "17\n",
      "🥂\n",
      "19\n",
      "🐝\n",
      "🥂\n",
      "22\n",
      "23\n",
      "🥂\n",
      "🐝\n",
      "26\n",
      "🥂\n",
      "28\n",
      "29\n",
      "🥂🐝\n",
      "31\n",
      "32\n",
      "🥂\n",
      "34\n",
      "🐝\n",
      "🥂\n",
      "37\n",
      "38\n",
      "🥂\n",
      "🐝\n",
      "41\n",
      "🥂\n",
      "43\n",
      "44\n",
      "🥂🐝\n",
      "46\n",
      "47\n",
      "🥂\n",
      "49\n",
      "🐝\n",
      "🥂\n",
      "52\n",
      "53\n",
      "🥂\n",
      "🐝\n",
      "56\n",
      "🥂\n",
      "58\n",
      "59\n",
      "🥂🐝\n",
      "61\n",
      "62\n",
      "🥂\n",
      "64\n",
      "🐝\n",
      "🥂\n",
      "67\n",
      "68\n",
      "🥂\n",
      "🐝\n",
      "71\n",
      "🥂\n",
      "73\n",
      "74\n",
      "🥂🐝\n",
      "76\n",
      "77\n",
      "🥂\n",
      "79\n",
      "🐝\n",
      "🥂\n",
      "82\n",
      "83\n",
      "🥂\n",
      "🐝\n",
      "86\n",
      "🥂\n",
      "88\n",
      "89\n",
      "🥂🐝\n",
      "91\n",
      "92\n",
      "🥂\n",
      "94\n",
      "🐝\n",
      "🥂\n",
      "97\n",
      "98\n",
      "🥂\n",
      "🐝\n"
     ]
    }
   ],
   "source": [
    "# 🥂🐝❗\n",
    "\n",
    "🍀 ℹ 👇 ↔(1, 101):\n",
    "    📄 = ''\n",
    "    ❔ ℹ % 3 == 0:\n",
    "       📄 += '🥂'\n",
    "    ❔ ℹ % 5 == 0:\n",
    "        📄 += '🐝'\n",
    "    ❔ 🎀(ℹ % 3 == 0) ➰ 🎀(ℹ % 5 == 0):\n",
    "        📄 += 🔤(ℹ)\n",
    "    🖨(📄)"
   ]
  },
  {
   "cell_type": "markdown",
   "metadata": {
    "slideshow": {
     "slide_type": "notes"
    }
   },
   "source": [
    "clinking glasses; honeybee; heavy exclamation mark symbol"
   ]
  },
  {
   "cell_type": "code",
   "execution_count": null,
   "metadata": {
    "collapsed": true
   },
   "outputs": [],
   "source": [
    "Conversion and cli"
   ]
  },
  {
   "cell_type": "code",
   "execution_count": 4,
   "metadata": {
    "collapsed": false
   },
   "outputs": [
    {
     "name": "stdout",
     "output_type": "stream",
     "text": [
      "TokenInfo(type=1 (NAME), string='🏫', start=(1, 0), end=(1, 5), line='class fact:\\n')\n",
      "TokenInfo(type=1 (NAME), string='fact', start=(1, 6), end=(1, 10), line='class fact:\\n')\n",
      "TokenInfo(type=53 (OP), string=':', start=(1, 10), end=(1, 11), line='class fact:\\n')\n",
      "TokenInfo(type=4 (NEWLINE), string='\\n', start=(1, 11), end=(1, 12), line='class fact:\\n')\n",
      "TokenInfo(type=5 (INDENT), string='    ', start=(2, 0), end=(2, 4), line='    EmojisareCool = True\\n')\n",
      "TokenInfo(type=1 (NAME), string='EmojisareCool', start=(2, 4), end=(2, 17), line='    EmojisareCool = True\\n')\n",
      "TokenInfo(type=53 (OP), string='◀', start=(2, 18), end=(2, 19), line='    EmojisareCool = True\\n')\n",
      "TokenInfo(type=1 (NAME), string='👍', start=(2, 20), end=(2, 24), line='    EmojisareCool = True\\n')\n",
      "TokenInfo(type=4 (NEWLINE), string='\\n', start=(2, 24), end=(2, 25), line='    EmojisareCool = True\\n')\n",
      "TokenInfo(type=58 (NL), string='\\n', start=(3, 0), end=(3, 1), line='\\n')\n",
      "TokenInfo(type=6 (DEDENT), string='', start=(4, 0), end=(4, 0), line='f = fact()\\n')\n",
      "TokenInfo(type=1 (NAME), string='f', start=(4, 0), end=(4, 1), line='f = fact()\\n')\n",
      "TokenInfo(type=53 (OP), string='◀', start=(4, 2), end=(4, 3), line='f = fact()\\n')\n",
      "TokenInfo(type=1 (NAME), string='fact', start=(4, 4), end=(4, 8), line='f = fact()\\n')\n",
      "TokenInfo(type=53 (OP), string='(', start=(4, 8), end=(4, 9), line='f = fact()\\n')\n",
      "TokenInfo(type=53 (OP), string=')', start=(4, 9), end=(4, 10), line='f = fact()\\n')\n",
      "TokenInfo(type=4 (NEWLINE), string='\\n', start=(4, 10), end=(4, 11), line='f = fact()\\n')\n",
      "TokenInfo(type=58 (NL), string='\\n', start=(5, 0), end=(5, 1), line='\\n')\n",
      "TokenInfo(type=58 (NL), string='\\n', start=(6, 0), end=(6, 1), line='\\n')\n",
      "TokenInfo(type=1 (NAME), string='lam', start=(7, 0), end=(7, 3), line='lam =  lambda x: True\\n')\n",
      "TokenInfo(type=53 (OP), string='◀', start=(7, 4), end=(7, 5), line='lam =  lambda x: True\\n')\n",
      "TokenInfo(type=1 (NAME), string='🐑', start=(7, 7), end=(7, 13), line='lam =  lambda x: True\\n')\n",
      "TokenInfo(type=1 (NAME), string='x', start=(7, 14), end=(7, 15), line='lam =  lambda x: True\\n')\n",
      "TokenInfo(type=53 (OP), string=':', start=(7, 15), end=(7, 16), line='lam =  lambda x: True\\n')\n",
      "TokenInfo(type=1 (NAME), string='👍', start=(7, 17), end=(7, 21), line='lam =  lambda x: True\\n')\n",
      "TokenInfo(type=4 (NEWLINE), string='\\n', start=(7, 21), end=(7, 22), line='lam =  lambda x: True\\n')\n",
      "TokenInfo(type=58 (NL), string='\\n', start=(8, 0), end=(8, 1), line='\\n')\n",
      "TokenInfo(type=1 (NAME), string='❔', start=(9, 0), end=(9, 2), line='if fact.EmojisareCool == True:\\n')\n",
      "TokenInfo(type=1 (NAME), string='fact', start=(9, 3), end=(9, 7), line='if fact.EmojisareCool == True:\\n')\n",
      "TokenInfo(type=53 (OP), string='.', start=(9, 7), end=(9, 8), line='if fact.EmojisareCool == True:\\n')\n",
      "TokenInfo(type=1 (NAME), string='EmojisareCool', start=(9, 8), end=(9, 21), line='if fact.EmojisareCool == True:\\n')\n",
      "TokenInfo(type=53 (OP), string='==', start=(9, 22), end=(9, 24), line='if fact.EmojisareCool == True:\\n')\n",
      "TokenInfo(type=1 (NAME), string='👍', start=(9, 25), end=(9, 29), line='if fact.EmojisareCool == True:\\n')\n",
      "TokenInfo(type=53 (OP), string=':', start=(9, 29), end=(9, 30), line='if fact.EmojisareCool == True:\\n')\n",
      "TokenInfo(type=4 (NEWLINE), string='\\n', start=(9, 30), end=(9, 31), line='if fact.EmojisareCool == True:\\n')\n",
      "TokenInfo(type=5 (INDENT), string='    ', start=(10, 0), end=(10, 4), line='    print(\"EMOJIS ARE COOL\")\\n')\n",
      "TokenInfo(type=1 (NAME), string='🖨', start=(10, 4), end=(10, 9), line='    print(\"EMOJIS ARE COOL\")\\n')\n",
      "TokenInfo(type=53 (OP), string='(', start=(10, 9), end=(10, 10), line='    print(\"EMOJIS ARE COOL\")\\n')\n",
      "TokenInfo(type=3 (STRING), string='\"EMOJIS ARE COOL\"', start=(10, 10), end=(10, 27), line='    print(\"EMOJIS ARE COOL\")\\n')\n",
      "TokenInfo(type=53 (OP), string=')', start=(10, 27), end=(10, 28), line='    print(\"EMOJIS ARE COOL\")\\n')\n",
      "TokenInfo(type=4 (NEWLINE), string='\\n', start=(10, 28), end=(10, 29), line='    print(\"EMOJIS ARE COOL\")\\n')\n",
      "TokenInfo(type=6 (DEDENT), string='', start=(11, 0), end=(11, 0), line='if not fact.EmojisareCool:\\n')\n",
      "TokenInfo(type=1 (NAME), string='❔', start=(11, 0), end=(11, 2), line='if not fact.EmojisareCool:\\n')\n",
      "TokenInfo(type=1 (NAME), string='🎀', start=(11, 3), end=(11, 6), line='if not fact.EmojisareCool:\\n')\n",
      "TokenInfo(type=1 (NAME), string='fact', start=(11, 7), end=(11, 11), line='if not fact.EmojisareCool:\\n')\n",
      "TokenInfo(type=53 (OP), string='.', start=(11, 11), end=(11, 12), line='if not fact.EmojisareCool:\\n')\n",
      "TokenInfo(type=1 (NAME), string='EmojisareCool', start=(11, 12), end=(11, 25), line='if not fact.EmojisareCool:\\n')\n",
      "TokenInfo(type=53 (OP), string=':', start=(11, 25), end=(11, 26), line='if not fact.EmojisareCool:\\n')\n",
      "TokenInfo(type=4 (NEWLINE), string='\\n', start=(11, 26), end=(11, 27), line='if not fact.EmojisareCool:\\n')\n",
      "TokenInfo(type=5 (INDENT), string='    ', start=(12, 0), end=(12, 4), line='    print (lam(fact.EmojisareCool))\\n')\n",
      "TokenInfo(type=1 (NAME), string='🖨', start=(12, 4), end=(12, 9), line='    print (lam(fact.EmojisareCool))\\n')\n",
      "TokenInfo(type=53 (OP), string='(', start=(12, 10), end=(12, 11), line='    print (lam(fact.EmojisareCool))\\n')\n",
      "TokenInfo(type=1 (NAME), string='lam', start=(12, 11), end=(12, 14), line='    print (lam(fact.EmojisareCool))\\n')\n",
      "TokenInfo(type=53 (OP), string='(', start=(12, 14), end=(12, 15), line='    print (lam(fact.EmojisareCool))\\n')\n",
      "TokenInfo(type=1 (NAME), string='fact', start=(12, 15), end=(12, 19), line='    print (lam(fact.EmojisareCool))\\n')\n",
      "TokenInfo(type=53 (OP), string='.', start=(12, 19), end=(12, 20), line='    print (lam(fact.EmojisareCool))\\n')\n",
      "TokenInfo(type=1 (NAME), string='EmojisareCool', start=(12, 20), end=(12, 33), line='    print (lam(fact.EmojisareCool))\\n')\n",
      "TokenInfo(type=53 (OP), string=')', start=(12, 33), end=(12, 34), line='    print (lam(fact.EmojisareCool))\\n')\n",
      "TokenInfo(type=53 (OP), string=')', start=(12, 34), end=(12, 35), line='    print (lam(fact.EmojisareCool))\\n')\n",
      "TokenInfo(type=4 (NEWLINE), string='\\n', start=(12, 35), end=(12, 36), line='    print (lam(fact.EmojisareCool))\\n')\n",
      "TokenInfo(type=6 (DEDENT), string='', start=(13, 0), end=(13, 0), line='')\n",
      "TokenInfo(type=0 (ENDMARKER), string='', start=(13, 0), end=(13, 0), line='')\n"
     ]
    }
   ],
   "source": [
    "import snake.python_to_emoji\n",
    "\n",
    "\n",
    "\n",
    "FILENAME = '../test.py'\n",
    "EMOJIOUT = \"../examples/test.emj\"\n",
    "\n",
    "\n",
    "#Converts python into emoji\n",
    "snake.python_to_emoji.python_to_emoji(FILENAME,EMOJIOUT)\n"
   ]
  },
  {
   "cell_type": "code",
   "execution_count": 5,
   "metadata": {
    "collapsed": false
   },
   "outputs": [
    {
     "name": "stdout",
     "output_type": "stream",
     "text": [
      "🏫 fact:\r\n",
      "    EmojisareCool ◀ 👍\r\n",
      "\r\n",
      "f ◀ fact()\r\n",
      "\r\n",
      "\r\n",
      "lam ◀  🐑 x: 👍\r\n",
      "\r\n",
      "❔ fact.EmojisareCool == 👍:\r\n",
      "    🖨(\"EMOJIS ARE COOL\")\r\n",
      "❔ 🎀 fact.EmojisareCool:\r\n",
      "    🖨 (lam(fact.EmojisareCool))\r\n"
     ]
    }
   ],
   "source": [
    "%cat ../examples/test.emj"
   ]
  },
  {
   "cell_type": "code",
   "execution_count": 6,
   "metadata": {
    "collapsed": false
   },
   "outputs": [
    {
     "name": "stdout",
     "output_type": "stream",
     "text": [
      "\n",
      "class fact:\n",
      "    EmojisareCool = True\n",
      "\n",
      "f = fact()\n",
      "\n",
      "\n",
      "lam =  lambda x: True\n",
      "\n",
      "if fact.EmojisareCool == True:\n",
      "    print(\"EMOJIS ARE COOL\")\n",
      "if not fact.EmojisareCool:\n",
      "    print (lam(fact.EmojisareCool))\n",
      "\n"
     ]
    }
   ],
   "source": [
    "import snake.emoji_to_python\n",
    "\n",
    "EMOJIOUT = \"../examples/test.emj\"\n",
    "PYOUT = \"../examples/test.py\"\n",
    "\n",
    "#converts emoji to python\n",
    "parsed_python = snake.emoji_to_python.emoji_to_python(EMOJIOUT)\n",
    "snake.emoji_to_python.write_emoji_to_python(EMOJIOUT, PYOUT)\n",
    "\n",
    "print()\n",
    "print(parsed_python)"
   ]
  },
  {
   "cell_type": "code",
   "execution_count": 8,
   "metadata": {
    "collapsed": false
   },
   "outputs": [
    {
     "name": "stdout",
     "output_type": "stream",
     "text": [
      "class fact:\r\n",
      "    EmojisareCool = True\r\n",
      "\r\n",
      "f = fact()\r\n",
      "\r\n",
      "\r\n",
      "lam =  lambda x: True\r\n",
      "\r\n",
      "if fact.EmojisareCool == True:\r\n",
      "    print(\"EMOJIS ARE COOL\")\r\n",
      "if not fact.EmojisareCool:\r\n",
      "    print (lam(fact.EmojisareCool))\r\n"
     ]
    }
   ],
   "source": [
    "%cat ../examples/test.py"
   ]
  },
  {
   "cell_type": "code",
   "execution_count": null,
   "metadata": {
    "collapsed": true
   },
   "outputs": [],
   "source": [
    "./🐍 script.py\n",
    "\n",
    "./🔡➡🐍➡😀 existing"
   ]
  },
  {
   "cell_type": "markdown",
   "metadata": {
    "slideshow": {
     "slide_type": "slide"
    }
   },
   "source": [
    "# 📩\n",
    "`pip install http://adamobeng.com/🐍`"
   ]
  },
  {
   "cell_type": "code",
   "execution_count": null,
   "metadata": {
    "collapsed": true
   },
   "outputs": [],
   "source": [
    "envelope "
   ]
  },
  {
   "cell_type": "markdown",
   "metadata": {
    "slideshow": {
     "slide_type": "slide"
    }
   },
   "source": [
    "# 🔚"
   ]
  },
  {
   "cell_type": "markdown",
   "metadata": {
    "slideshow": {
     "slide_type": "slide"
    }
   },
   "source": [
    "# 🙇🙏\n",
    "\n",
    "### 👍  💁👂➡🎹\n",
    "\n",
    "pip install git+https://adamobeng.com/🐍\n",
    "\n",
    "## 🃏  💻🔍👥  🏫🗽: @Adam_Obeng"
   ]
  },
  {
   "cell_type": "markdown",
   "metadata": {},
   "source": [
    "Playing card black joker. Personal computer; right-pointing magnifying glass; busts in silhouette. School; statue of liberty"
   ]
  },
  {
   "cell_type": "code",
   "execution_count": null,
   "metadata": {
    "collapsed": true
   },
   "outputs": [],
   "source": [
    "TODO: add twitter handles/github/pip"
   ]
  }
 ],
 "metadata": {
  "celltoolbar": "Slideshow",
  "kernelspec": {
   "display_name": "Python 3",
   "language": "python",
   "name": "python3"
  },
  "language_info": {
   "codemirror_mode": {
    "name": "ipython",
    "version": 3
   },
   "file_extension": ".py",
   "mimetype": "text/x-python",
   "name": "python",
   "nbconvert_exporter": "python",
   "pygments_lexer": "ipython3",
   "version": "3.5.1"
  }
 },
 "nbformat": 4,
 "nbformat_minor": 0
}

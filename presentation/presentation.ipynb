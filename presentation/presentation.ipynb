{
 "cells": [
  {
   "cell_type": "code",
   "execution_count": 6,
   "metadata": {
    "collapsed": false,
    "slideshow": {
     "slide_type": "skip"
    }
   },
   "outputs": [
    {
     "data": {
      "text/html": [
       "<style>h1 {font-size: 400% !important;} h2 {font-size: 300% !important}"
      ],
      "text/plain": [
       "<IPython.core.display.HTML object>"
      ]
     },
     "execution_count": 6,
     "metadata": {},
     "output_type": "execute_result"
    }
   ],
   "source": [
    "from IPython.display import HTML\n",
    "style = \"\"\"<style>h1 {font-size: 400% !important;} h2 {font-size: 300% !important}\"\"\"\n",
    "\n",
    "HTML(style)\n",
    "\n",
    "# TODO: Add emoji credits\n",
    "# TODO: Add emoji intros\n",
    "# TODO: Write conversion section"
   ]
  },
  {
   "cell_type": "markdown",
   "metadata": {
    "slideshow": {
     "slide_type": "slide"
    }
   },
   "source": [
    "# 👋"
   ]
  },
  {
   "cell_type": "markdown",
   "metadata": {
    "slideshow": {
     "slide_type": "notes"
    }
   },
   "source": [
    "waving hand sign"
   ]
  },
  {
   "cell_type": "markdown",
   "metadata": {
    "slideshow": {
     "slide_type": "slide"
    }
   },
   "source": [
    "# 🌩🗣: 🐍\n",
    "\n",
    "### 🃏  (💻🔍👥  🏫🗽)"
   ]
  },
  {
   "cell_type": "markdown",
   "metadata": {
    "slideshow": {
     "slide_type": "notes"
    }
   },
   "source": [
    "cloud with lightning; speaking head in silhouette: snake\n",
    "\n",
    "Playing card black joker. Personal computer; right-pointing magnifying glass; busts in silhouette. School; statue of liberty"
   ]
  },
  {
   "cell_type": "markdown",
   "metadata": {
    "slideshow": {
     "slide_type": "slide"
    }
   },
   "source": [
    "![](./slack_long.png)"
   ]
  },
  {
   "cell_type": "markdown",
   "metadata": {
    "slideshow": {
     "slide_type": "notes"
    }
   },
   "source": [
    "snake; snake; snake; snake; slice of pizza"
   ]
  },
  {
   "cell_type": "markdown",
   "metadata": {
    "slideshow": {
     "slide_type": "slide"
    }
   },
   "source": [
    "![](./slack_ben.png)\n",
    "\n",
    "# 🤔💡"
   ]
  },
  {
   "cell_type": "markdown",
   "metadata": {
    "slideshow": {
     "slide_type": "notes"
    }
   },
   "source": [
    "thinking face; electric light bulb"
   ]
  },
  {
   "cell_type": "markdown",
   "metadata": {
    "slideshow": {
     "slide_type": "slide"
    }
   },
   "source": [
    "# 🐍❔\n",
    "## 📝🐍🚫🔡  ➡ 💻"
   ]
  },
  {
   "cell_type": "markdown",
   "metadata": {
    "slideshow": {
     "slide_type": "notes"
    }
   },
   "source": [
    "snake; white question mark ornament\n",
    "\n",
    "Memo; snake; no entry sign; input symbol for latin small characters; black rightwards arrow; personal computer."
   ]
  },
  {
   "cell_type": "markdown",
   "metadata": {
    "slideshow": {
     "slide_type": "slide"
    }
   },
   "source": [
    "# ⁉\n",
    "\n",
    "## 😀   ➡  🐍   ➡ 🔡"
   ]
  },
  {
   "cell_type": "markdown",
   "metadata": {
    "slideshow": {
     "slide_type": "notes"
    }
   },
   "source": [
    "exclamation mark question mark\n",
    "\n",
    "grinning face; black rightwards arrow; snake; black rightwards arrow; input symbol for latin small characters"
   ]
  },
  {
   "cell_type": "markdown",
   "metadata": {
    "slideshow": {
     "slide_type": "notes"
    }
   },
   "source": [
    "# ⁉\n",
    "## 🐍 📖"
   ]
  },
  {
   "cell_type": "markdown",
   "metadata": {
    "slideshow": {
     "slide_type": "notes"
    }
   },
   "source": [
    "exclamation mark question mark\n",
    "\n",
    "snake; open book"
   ]
  },
  {
   "cell_type": "code",
   "execution_count": 1,
   "metadata": {
    "collapsed": false,
    "slideshow": {
     "slide_type": "slide"
    }
   },
   "outputs": [],
   "source": [
    "%reload_ext snake.ipython_hook"
   ]
  },
  {
   "cell_type": "code",
   "execution_count": null,
   "metadata": {
    "collapsed": false,
    "slideshow": {
     "slide_type": "slide"
    }
   },
   "outputs": [],
   "source": []
  },
  {
   "cell_type": "code",
   "execution_count": 5,
   "metadata": {
    "collapsed": false,
    "slideshow": {
     "slide_type": "notes"
    }
   },
   "outputs": [
    {
     "data": {
      "text/html": [
       "👎"
      ],
      "text/plain": [
       "False"
      ]
     },
     "execution_count": 5,
     "metadata": {},
     "output_type": "execute_result"
    }
   ],
   "source": [
    "# Demo 1:\n",
    "    \n",
    "😀 ⬅ 10\n",
    "😀\n",
    "😀 ⬅ 😀 + 1\n",
    "😀\n",
    "\n",
    "# Demo 2:\n",
    "😀 = 10\n",
    "😀 ⬅ 5\n",
    "😀 > 20"
   ]
  },
  {
   "cell_type": "markdown",
   "metadata": {
    "slideshow": {
     "slide_type": "notes"
    }
   },
   "source": [
    "grinning face; leftwards black arrow\n",
    "\n",
    "thumbs up sign. thumbs down sign"
   ]
  },
  {
   "cell_type": "markdown",
   "metadata": {
    "slideshow": {
     "slide_type": "slide"
    }
   },
   "source": [
    "# 🆒‼ \n",
    "## 🙌"
   ]
  },
  {
   "cell_type": "markdown",
   "metadata": {
    "slideshow": {
     "slide_type": "notes"
    }
   },
   "source": [
    "squared cool; double exclamation mark.\n",
    "\n",
    "person raising both hands in celebration"
   ]
  },
  {
   "cell_type": "code",
   "execution_count": 10,
   "metadata": {
    "collapsed": false,
    "slideshow": {
     "slide_type": "slide"
    }
   },
   "outputs": [
    {
     "name": "stdout",
     "output_type": "stream",
     "text": [
      "1\n",
      "2\n",
      "🥂\n",
      "4\n",
      "🐝\n",
      "🥂\n",
      "7\n",
      "8\n",
      "🥂\n",
      "🐝\n",
      "11\n",
      "🥂\n",
      "13\n",
      "14\n",
      "🥂🐝\n",
      "16\n",
      "17\n",
      "🥂\n",
      "19\n",
      "🐝\n",
      "🥂\n",
      "22\n",
      "23\n",
      "🥂\n",
      "🐝\n",
      "26\n",
      "🥂\n",
      "28\n",
      "29\n",
      "🥂🐝\n",
      "31\n",
      "32\n",
      "🥂\n",
      "34\n",
      "🐝\n",
      "🥂\n",
      "37\n",
      "38\n",
      "🥂\n",
      "🐝\n",
      "41\n",
      "🥂\n",
      "43\n",
      "44\n",
      "🥂🐝\n",
      "46\n",
      "47\n",
      "🥂\n",
      "49\n",
      "🐝\n",
      "🥂\n",
      "52\n",
      "53\n",
      "🥂\n",
      "🐝\n",
      "56\n",
      "🥂\n",
      "58\n",
      "59\n",
      "🥂🐝\n",
      "61\n",
      "62\n",
      "🥂\n",
      "64\n",
      "🐝\n",
      "🥂\n",
      "67\n",
      "68\n",
      "🥂\n",
      "🐝\n",
      "71\n",
      "🥂\n",
      "73\n",
      "74\n",
      "🥂🐝\n",
      "76\n",
      "77\n",
      "🥂\n",
      "79\n",
      "🐝\n",
      "🥂\n",
      "82\n",
      "83\n",
      "🥂\n",
      "🐝\n",
      "86\n",
      "🥂\n",
      "88\n",
      "89\n",
      "🥂🐝\n",
      "91\n",
      "92\n",
      "🥂\n",
      "94\n",
      "🐝\n",
      "🥂\n",
      "97\n",
      "98\n",
      "🥂\n",
      "🐝\n"
     ]
    }
   ],
   "source": [
    "# 🥂🐝❗\n",
    "\n",
    "🍀 ℹ 👇 ↔(1, 101):\n",
    "    📄 = ''\n",
    "    ❔ ℹ % 3 == 0:\n",
    "       📄 += '🥂'\n",
    "    ❔ ℹ % 5 == 0:\n",
    "        📄 += '🐝'\n",
    "    ❔ 🎀(ℹ % 3 == 0) ➰ 🎀(ℹ % 5 == 0):\n",
    "        📄 += 🔤(ℹ)\n",
    "    🖨(📄)"
   ]
  },
  {
   "cell_type": "markdown",
   "metadata": {
    "slideshow": {
     "slide_type": "notes"
    }
   },
   "source": [
    "clinking glasses; honeybee; heavy exclamation mark symbol"
   ]
  },
  {
   "cell_type": "code",
   "execution_count": 16,
   "metadata": {
    "collapsed": false,
    "slideshow": {
     "slide_type": "slide"
    }
   },
   "outputs": [],
   "source": [
    "%%bash\n",
    "\n",
    "python3 ../snake/python_to_emoji.py ../snake/fizzbuzz.py out.py"
   ]
  },
  {
   "cell_type": "code",
   "execution_count": 3,
   "metadata": {
    "collapsed": false,
    "slideshow": {
     "slide_type": "slide"
    }
   },
   "outputs": [
    {
     "name": "stderr",
     "output_type": "stream",
     "text": [
      "ERROR: Line magic function `%🐈` not found.\n"
     ]
    },
    {
     "data": {
      "text/plain": [
       "b\"\\xf0\\x9f\\x8d\\x80 i \\xf0\\x9f\\x91\\x87 \\xe2\\x86\\x94(0, 100):\\n    \\xe2\\x9d\\x94 i % 3:\\n        \\xf0\\x9f\\x96\\xa8('Fizz')\\n\""
      ]
     },
     "execution_count": 3,
     "metadata": {},
     "output_type": "execute_result"
    }
   ],
   "source": [
    "%cat fizzbuzz.py\n",
    "%cat out.py"
   ]
  },
  {
   "cell_type": "markdown",
   "metadata": {
    "slideshow": {
     "slide_type": "slide"
    }
   },
   "source": [
    "# 📩\n",
    "`pip install git+http://adamobeng.com/🐍`"
   ]
  },
  {
   "cell_type": "markdown",
   "metadata": {
    "collapsed": true,
    "slideshow": {
     "slide_type": "notes"
    }
   },
   "source": [
    "envelope with downwards arrow above"
   ]
  },
  {
   "cell_type": "markdown",
   "metadata": {
    "slideshow": {
     "slide_type": "slide"
    }
   },
   "source": [
    "# 🔚🙇🙏\n",
    "\n",
    "### http://adamobeng.com/🐍\n",
    "\n",
    "## ✍💳\n",
    "- @Samathy_Barratt\n",
    "- 🐻:  @stevenewey\n",
    "- @Ducksual\n",
    "- 🃏:  @Adam_Obeng"
   ]
  },
  {
   "cell_type": "markdown",
   "metadata": {
    "slideshow": {
     "slide_type": "notes"
    }
   },
   "source": [
    "Writing hand credit card\n",
    "\n",
    "Bear face\n",
    "Playing card black joker."
   ]
  }
 ],
 "metadata": {
  "celltoolbar": "Slideshow",
  "kernelspec": {
   "display_name": "Python 3",
   "language": "python",
   "name": "python3"
  },
  "language_info": {
   "codemirror_mode": {
    "name": "ipython",
    "version": 3
   },
   "file_extension": ".py",
   "mimetype": "text/x-python",
   "name": "python",
   "nbconvert_exporter": "python",
   "pygments_lexer": "ipython3",
   "version": "3.5.1"
  }
 },
 "nbformat": 4,
 "nbformat_minor": 0
}
